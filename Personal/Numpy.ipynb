{
 "cells": [
  {
   "cell_type": "code",
   "execution_count": 3,
   "metadata": {},
   "outputs": [
    {
     "name": "stdout",
     "output_type": "stream",
     "text": [
      "[ 1  3  5  9 11]\n"
     ]
    }
   ],
   "source": [
    "import numpy as np\n",
    "\n",
    "x = -1.6\n",
    "y = np.array([\"I love you\", \"I hate you\"])\n",
    "a = np.array([1,2,3]) # 1D array\n",
    "b = np.hstack([a, a]) # Horizontal stack\n",
    "c = np.vstack([a, a]) # Vertical stack\n",
    "d = np.concatenate([a, a]) # Concatenate\n",
    "e = np.concatenate([a, a], axis=0) # Concatenate by stacking rows\n",
    "f = np.concatenate([c, c], axis=1) # Concatenate by stacking columns\n",
    "g = np.absolute(x) # Absolute value which gives the magnitude of a number without its sign\n",
    "h = np.append(a, 4) # Append a value to an array a\n",
    "i = np.arange(0, 10, 2) # Create an array of evenly spaced values with in a given interval [0, 10] and step size 2\n",
    "j = np.char.find(y, 'o', start = 0, end=None) # Find the index of a substring in a string\n",
    "k = np.sort([3,1,5,11,9]) # Sort the given values\n",
    "\n",
    "print(k)"
   ]
  },
  {
   "cell_type": "code",
   "execution_count": 20,
   "metadata": {},
   "outputs": [
    {
     "data": {
      "text/plain": [
       "array([[1, 4],\n",
       "       [2, 6]])"
      ]
     },
     "execution_count": 20,
     "metadata": {},
     "output_type": "execute_result"
    }
   ],
   "source": [
    "import numpy as np\n",
    "a = np.array([[1,4],[6,2]])\n",
    "np.sort(a, axis = None)\n",
    "np.sort(a, axis = 0)\n",
    "np.sort(a, axis = 1)\n"
   ]
  },
  {
   "cell_type": "code",
   "execution_count": 22,
   "metadata": {},
   "outputs": [
    {
     "data": {
      "text/plain": [
       "array([(b'manoj', 26, 85.1), (b'bharath', 25, 96.7)],\n",
       "      dtype=[('name', 'S10'), ('age', '<i4'), ('marks', '<f8')])"
      ]
     },
     "execution_count": 22,
     "metadata": {},
     "output_type": "execute_result"
    }
   ],
   "source": [
    "type = [('name', 'S10'), ('age', int), ('marks', float)]\n",
    "values = [('bharath', 25, 96.7), ('manoj', 26, 85.1)]\n",
    "a = np.array(values, dtype=type)\n",
    "np.sort(a, order = 'marks')\n"
   ]
  }
 ],
 "metadata": {
  "kernelspec": {
   "display_name": "Python 3",
   "language": "python",
   "name": "python3"
  },
  "language_info": {
   "codemirror_mode": {
    "name": "ipython",
    "version": 3
   },
   "file_extension": ".py",
   "mimetype": "text/x-python",
   "name": "python",
   "nbconvert_exporter": "python",
   "pygments_lexer": "ipython3",
   "version": "3.9.13"
  },
  "orig_nbformat": 4,
  "vscode": {
   "interpreter": {
    "hash": "ca1530fc43f02cacc5a79445da3769e63c13907fb4d317de69fe7e5797815707"
   }
  }
 },
 "nbformat": 4,
 "nbformat_minor": 2
}
