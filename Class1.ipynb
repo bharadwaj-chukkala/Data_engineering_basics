{
 "cells": [
  {
   "attachments": {},
   "cell_type": "markdown",
   "metadata": {},
   "source": [
    "Tuples"
   ]
  },
  {
   "cell_type": "code",
   "execution_count": 1,
   "metadata": {},
   "outputs": [
    {
     "name": "stdout",
     "output_type": "stream",
     "text": [
      "('anurag', 'kumar', 'singh')\n"
     ]
    }
   ],
   "source": [
    "z = ('anurag', 'kumar', 'singh')\n",
    "print(z)"
   ]
  },
  {
   "attachments": {},
   "cell_type": "markdown",
   "metadata": {},
   "source": [
    "formatting options to make code readable"
   ]
  },
  {
   "cell_type": "code",
   "execution_count": 6,
   "metadata": {},
   "outputs": [
    {
     "name": "stdout",
     "output_type": "stream",
     "text": [
      "anurag is the instructor is the instructor\n",
      "anurag is the instructor,bharath is the student. We are going to learn python\n"
     ]
    }
   ],
   "source": [
    "a = 'anurag is the instructor'\n",
    "b = 'bharath is the student.'\n",
    "\n",
    "print(\"{} is the instructor\".format(a))\n",
    "print(\"{0},{1} We are going to learn python\".format(a,b))"
   ]
  },
  {
   "attachments": {},
   "cell_type": "markdown",
   "metadata": {},
   "source": [
    "sets\n",
    "- They are unordered collection of unique elements\n",
    "- They are immutable\n",
    "- It eliminates duplicates"
   ]
  },
  {
   "cell_type": "code",
   "execution_count": 15,
   "metadata": {},
   "outputs": [
    {
     "name": "stdout",
     "output_type": "stream",
     "text": [
      "{'heat', 'warriors', 'knicks', 'mavericks', 'bulls', 'rockets', 'spurs', 'celtics', 'nets', 'lakers'}\n"
     ]
    }
   ],
   "source": [
    "X = {1,2,3,4,5,6,7,8,9,10}\n",
    "Y ={'rockets', 'lakers', 'warriors', 'bulls', 'knicks', 'nets', 'celtics', 'heat', 'spurs', 'mavericks'}\n",
    "print(Y)"
   ]
  },
  {
   "attachments": {},
   "cell_type": "markdown",
   "metadata": {},
   "source": [
    "Dictionaries\n",
    "- It is a collection of key-value pairs\n",
    "- It is ordered\n",
    "- It is mutable"
   ]
  },
  {
   "cell_type": "code",
   "execution_count": 20,
   "metadata": {},
   "outputs": [
    {
     "name": "stdout",
     "output_type": "stream",
     "text": [
      "bharath is 6.1 ft tall and weights 80 kg\n"
     ]
    }
   ],
   "source": [
    "person_1 = {\n",
    "    'name' : 'bharath',\n",
    "    'height': 6.1,\n",
    "    'weight': 80,\n",
    "    'age': 25\n",
    "}\n",
    "person_2 = {\n",
    "    'name' : 'anurag',\n",
    "    'height': 5.10,\n",
    "    'weight': 70,\n",
    "    'age': 35\n",
    "}\n",
    "print (\"{0} is {1} ft tall and weights {2} kg\".format(person_1['name'], person_1['height'], person_1['weight']))"
   ]
  },
  {
   "attachments": {},
   "cell_type": "markdown",
   "metadata": {},
   "source": [
    "conditional statements"
   ]
  },
  {
   "cell_type": "code",
   "execution_count": 23,
   "metadata": {},
   "outputs": [
    {
     "name": "stdout",
     "output_type": "stream",
     "text": [
      "10.5 is not an integer, it is a <class 'float'>\n"
     ]
    }
   ],
   "source": [
    "n = 10.5\n",
    "\n",
    "if type(n) == int:\n",
    "    if n > 0:\n",
    "        print(\"n is {} positive integer\".format(n))\n",
    "    elif n == 0:\n",
    "        print(\"n is zero\")\n",
    "    else :\n",
    "        print(\"n is {} negative integer\".fomat(n))\n",
    "else:\n",
    "    print(\"{} is not an integer, it is a\".format(n), type(n)),\n",
    "    "
   ]
  },
  {
   "attachments": {},
   "cell_type": "markdown",
   "metadata": {},
   "source": [
    "List of Dictionaries"
   ]
  },
  {
   "cell_type": "code",
   "execution_count": 24,
   "metadata": {},
   "outputs": [
    {
     "name": "stdout",
     "output_type": "stream",
     "text": [
      "bharath is 6.1 ft tall and weights 80 kg\n",
      "anurag is 5.1 ft tall and weights 70 kg\n"
     ]
    }
   ],
   "source": [
    "people = [\n",
    "    {\n",
    "        'name' : 'bharath',\n",
    "        'height': 6.1,\n",
    "        'weight': 80,\n",
    "        'age': 25\n",
    "    },\n",
    "    {\n",
    "        'name' : 'anurag',\n",
    "        'height': 5.10,\n",
    "        'weight': 70,\n",
    "        'age': 35\n",
    "    }\n",
    "]\n",
    "\n",
    "for person in people:\n",
    "    print (\"{0} is {1} ft tall and weights {2} kg\".format(person['name'], person['height'], person['weight']))"
   ]
  }
 ],
 "metadata": {
  "kernelspec": {
   "display_name": "Python 3",
   "language": "python",
   "name": "python3"
  },
  "language_info": {
   "codemirror_mode": {
    "name": "ipython",
    "version": 3
   },
   "file_extension": ".py",
   "mimetype": "text/x-python",
   "name": "python",
   "nbconvert_exporter": "python",
   "pygments_lexer": "ipython3",
   "version": "3.9.13"
  },
  "orig_nbformat": 4,
  "vscode": {
   "interpreter": {
    "hash": "ca1530fc43f02cacc5a79445da3769e63c13907fb4d317de69fe7e5797815707"
   }
  }
 },
 "nbformat": 4,
 "nbformat_minor": 2
}
