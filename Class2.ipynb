{
 "cells": [
  {
   "attachments": {},
   "cell_type": "markdown",
   "metadata": {},
   "source": [
    "Object Oriented Programming in Python"
   ]
  },
  {
   "cell_type": "code",
   "execution_count": null,
   "metadata": {},
   "outputs": [],
   "source": [
    "class Profile:\n",
    "    def __init__(self, name, age, address):\n",
    "        self.name = name\n",
    "        self.age = age\n",
    "        self.address = address\n",
    "    def print_info(self):\n",
    "        print(\"Name: \", self.name)\n",
    "        print(\"Age: \", self.age)\n",
    "        print(\"Address: \", self.address)\n",
    "        \n",
    "person_1 = Profile(\"John\", 20, \"Seoul\")\n",
    "print(person_1.print_info())\n"
   ]
  },
  {
   "cell_type": "code",
   "execution_count": null,
   "metadata": {},
   "outputs": [],
   "source": [
    "class Calculator:\n",
    "    # attributes\n",
    "    numbers = 'calculator paramters'\n",
    "    \n",
    "    def __init__(self, a, b):\n",
    "        self.a = a\n",
    "        self.b = b\n",
    "    def add(self):\n",
    "        sum = self.a + self.b\n",
    "        print('The sum of both the numbers is {0}'.format(sum)) \n",
    "    def difference(self):\n",
    "        diff = abs(self.a) - abs(self.b)\n",
    "        print('The difference between the numbers is {0}'.format(diff))\n",
    "    def product(self):\n",
    "        product = self.a * self.b\n",
    "        print('The product of the numbers is {0}'.format(product))\n",
    "        \n",
    "object = Calculator(40, 20)\n",
    "object.add()\n",
    "object.difference()\n",
    "object.product()\n",
    "object.numbers"
   ]
  },
  {
   "cell_type": "code",
   "execution_count": 52,
   "metadata": {},
   "outputs": [
    {
     "name": "stdout",
     "output_type": "stream",
     "text": [
      "BML is the name of the college and 115 is the id of the college\n"
     ]
    }
   ],
   "source": [
    "class College():\n",
    "    def __init__(self, fname, fid):\n",
    "        self.fname = fname\n",
    "        self.fid = fid\n",
    "    \n",
    "    def info(self):\n",
    "        print('random')\n",
    "        \n",
    "class Student(College):\n",
    "    def __init__(self, fname, fid, name):\n",
    "        super().__init__(fname, fid)\n",
    "        self.name = name\n",
    "        #College.__init__(self, fname, fid)\n",
    "    \n",
    "    def info(self):\n",
    "        print('{0} is the name of the college and {1} is the id of the college'.format(self.fname, self.fid))\n",
    "        \n",
    "\n",
    "#college = College('BML', 115) \n",
    "stu_obj = Student('BML', 115, 'bharat')\n",
    "stu_obj.info()\n"
   ]
  },
  {
   "cell_type": "code",
   "execution_count": null,
   "metadata": {},
   "outputs": [],
   "source": []
  }
 ],
 "metadata": {
  "kernelspec": {
   "display_name": "Python 3",
   "language": "python",
   "name": "python3"
  },
  "language_info": {
   "codemirror_mode": {
    "name": "ipython",
    "version": 3
   },
   "file_extension": ".py",
   "mimetype": "text/x-python",
   "name": "python",
   "nbconvert_exporter": "python",
   "pygments_lexer": "ipython3",
   "version": "3.9.13"
  },
  "orig_nbformat": 4
 },
 "nbformat": 4,
 "nbformat_minor": 2
}
