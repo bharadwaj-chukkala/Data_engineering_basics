{
 "cells": [
  {
   "attachments": {},
   "cell_type": "markdown",
   "metadata": {},
   "source": [
    "File Handling in Python\n",
    "\n",
    "- Types of files:\n",
    "    - Text files\n",
    "    - Binary files\n",
    "    - Image files\n",
    "    - CSV files\n",
    "    - JSON files\n",
    "    - Excel files\n",
    "\n",
    "- Operations on files:\n",
    "    - Open\n",
    "    - Read\n",
    "    - Write\n",
    "    - Close\n",
    "\n",
    "- Modes of opening a file:\n",
    "    - Read mode (r)\n",
    "    - Write mode (w)\n",
    "    - Append mode (a)\n",
    "    - Read and write mode (r+) or (w+)\n",
    "    - Append and read mode (a+)"
   ]
  },
  {
   "cell_type": "code",
   "execution_count": 33,
   "metadata": {},
   "outputs": [
    {
     "name": "stdout",
     "output_type": "stream",
     "text": [
      "[]\n"
     ]
    }
   ],
   "source": [
    "## -------------- Method 1 Read --------\n",
    "file_open = open('./sample.txt','r')\n",
    "\n",
    "text_in_file = file_open.read()\n",
    "\n",
    "#print(text_in_file)\n",
    "\n",
    "## -------------- Method 2 Read ---------\n",
    "with open('./sample.txt','r') as fr:\n",
    "    text_in_file_2 = fr.readlines()\n",
    "    text_in_file_3 = fr.readline()\n",
    "    text_in_file = file_open.read()\n",
    "    #print(text_in_file_2)\n",
    "    for line in text_in_file_2:\n",
    "        #print(line)\n",
    "        pass\n",
    "        \n",
    "## -------------- Method 3 Write --------\n",
    "\n",
    "with open('./sample_write.txt', 'w+') as fw:\n",
    "    fw.write('\\n This is a new line to test overwriting the file. \\n')\n",
    "    text_in_file = fw.readlines()\n",
    "    for i in range (0, 5):\n",
    "        fw.write('This is line number: ' + str(i) + '\\n')\n",
    "    print(text_in_file)\n",
    "    \n",
    "## -------------- Method 4 Append --------\n",
    "\n",
    "with open('./sample.txt', 'r+') as fr, open('./sample_append.txt', 'a+') as fa:\n",
    "    text_in_file = fr.readlines()\n",
    "    for line in text_in_file:\n",
    "        fa.write('This is a new line to test appending the file. \\n')\n",
    "    for i in range (0, 5):\n",
    "        fa.write('This is line number: ' + str(i) + '\\n')\n",
    "        "
   ]
  },
  {
   "attachments": {},
   "cell_type": "markdown",
   "metadata": {},
   "source": [
    "Exception Handling in Python\n",
    "\n",
    "- What is an exception?\n",
    "    - Exception is an event, which occurs during the execution of a program that disrupts the normal flow of the program's instructions.\n",
    "    - Exception handling is a process of handling the runtime errors so that normal flow of the application can be maintained."
   ]
  },
  {
   "cell_type": "code",
   "execution_count": 36,
   "metadata": {},
   "outputs": [
    {
     "name": "stdout",
     "output_type": "stream",
     "text": [
      "Error: You cannot divide by zero.\n"
     ]
    }
   ],
   "source": [
    "try:\n",
    "    with open('./sample_write.txt', 'w+') as fw:\n",
    "        for i in range (0, 5):\n",
    "            if i % 0 == 0:\n",
    "                fw.write('This is line number: ' + i + '\\n')\n",
    "            else:\n",
    "                pass\n",
    "except TypeError:\n",
    "    print('Error: You cannot write an integer to a text file without typecasting it to string.')\n",
    "\n",
    "except ZeroDivisionError:\n",
    "    print('Error: You cannot divide by zero.')\n",
    "    \n",
    "    "
   ]
  },
  {
   "cell_type": "code",
   "execution_count": 40,
   "metadata": {},
   "outputs": [],
   "source": [
    "from datetime import datetime\n",
    "\n",
    "dt = datetime.now()\n",
    "\n",
    "try:\n",
    "    with open('./sample_write.txt', 'w+') as fw:\n",
    "        for i in range (0, 5):\n",
    "            if i % 0 == 0:\n",
    "                fw.write('This is line number: ' + i + '\\n')\n",
    "            else:\n",
    "                pass\n",
    "except ZeroDivisionError:\n",
    "    with open('./class_error_log_{0}_{1}_{2}.txt'.format(str(dt.year),str(dt.month),str(dt.day)), 'a+') as fe:\n",
    "        fe.write('Exception Occured {0} at {1}'.format(str(TypeError), str(datetime.now())))"
   ]
  }
 ],
 "metadata": {
  "kernelspec": {
   "display_name": "Python 3",
   "language": "python",
   "name": "python3"
  },
  "language_info": {
   "codemirror_mode": {
    "name": "ipython",
    "version": 3
   },
   "file_extension": ".py",
   "mimetype": "text/x-python",
   "name": "python",
   "nbconvert_exporter": "python",
   "pygments_lexer": "ipython3",
   "version": "3.9.13"
  },
  "orig_nbformat": 4
 },
 "nbformat": 4,
 "nbformat_minor": 2
}
